{
 "cells": [
  {
   "cell_type": "code",
   "execution_count": 2,
   "metadata": {},
   "outputs": [
    {
     "name": "stdout",
     "output_type": "stream",
     "text": [
      "Defaulting to user installation because normal site-packages is not writeable\n",
      "Requirement already satisfied: openpyxl in c:\\users\\hp\\appdata\\roaming\\python\\python312\\site-packages (3.1.2)\n",
      "Requirement already satisfied: et-xmlfile in c:\\users\\hp\\appdata\\roaming\\python\\python312\\site-packages (from openpyxl) (1.1.0)\n"
     ]
    },
    {
     "data": {
      "text/plain": [
       "['Sheet1']"
      ]
     },
     "execution_count": 2,
     "metadata": {},
     "output_type": "execute_result"
    }
   ],
   "source": [
    "!pip install openpyxl \n",
    "import pandas as pd\n",
    "\n",
    "df = pd.ExcelFile('exchange_rate_manual_trade_r2.xlsx')\n",
    "\n",
    "sheet_names = df.sheet_names\n",
    "sheet_names"
   ]
  },
  {
   "cell_type": "code",
   "execution_count": 3,
   "metadata": {},
   "outputs": [
    {
     "data": {
      "text/html": [
       "<div>\n",
       "<style scoped>\n",
       "    .dataframe tbody tr th:only-of-type {\n",
       "        vertical-align: middle;\n",
       "    }\n",
       "\n",
       "    .dataframe tbody tr th {\n",
       "        vertical-align: top;\n",
       "    }\n",
       "\n",
       "    .dataframe thead th {\n",
       "        text-align: right;\n",
       "    }\n",
       "</style>\n",
       "<table border=\"1\" class=\"dataframe\">\n",
       "  <thead>\n",
       "    <tr style=\"text-align: right;\">\n",
       "      <th></th>\n",
       "      <th>Unnamed: 0</th>\n",
       "      <th>Pizza slice</th>\n",
       "      <th>Wasabi root</th>\n",
       "      <th>Snowball</th>\n",
       "      <th>Shells</th>\n",
       "    </tr>\n",
       "  </thead>\n",
       "  <tbody>\n",
       "    <tr>\n",
       "      <th>0</th>\n",
       "      <td>Pizza slice</td>\n",
       "      <td>1.00</td>\n",
       "      <td>0.48</td>\n",
       "      <td>1.52</td>\n",
       "      <td>0.71</td>\n",
       "    </tr>\n",
       "    <tr>\n",
       "      <th>1</th>\n",
       "      <td>Wasabi root</td>\n",
       "      <td>2.05</td>\n",
       "      <td>1.00</td>\n",
       "      <td>3.26</td>\n",
       "      <td>1.56</td>\n",
       "    </tr>\n",
       "    <tr>\n",
       "      <th>2</th>\n",
       "      <td>Snowball</td>\n",
       "      <td>0.64</td>\n",
       "      <td>0.30</td>\n",
       "      <td>1.00</td>\n",
       "      <td>0.46</td>\n",
       "    </tr>\n",
       "    <tr>\n",
       "      <th>3</th>\n",
       "      <td>Shells</td>\n",
       "      <td>1.41</td>\n",
       "      <td>0.61</td>\n",
       "      <td>2.08</td>\n",
       "      <td>1.00</td>\n",
       "    </tr>\n",
       "  </tbody>\n",
       "</table>\n",
       "</div>"
      ],
      "text/plain": [
       "    Unnamed: 0  Pizza slice  Wasabi root  Snowball  Shells\n",
       "0  Pizza slice         1.00         0.48      1.52    0.71\n",
       "1  Wasabi root         2.05         1.00      3.26    1.56\n",
       "2     Snowball         0.64         0.30      1.00    0.46\n",
       "3       Shells         1.41         0.61      2.08    1.00"
      ]
     },
     "execution_count": 3,
     "metadata": {},
     "output_type": "execute_result"
    }
   ],
   "source": [
    "exchange_rates = df.parse(sheet_names[0])\n",
    "exchange_rates"
   ]
  },
  {
   "cell_type": "code",
   "execution_count": 13,
   "metadata": {},
   "outputs": [
    {
     "data": {
      "text/plain": [
       "(1.0569693888,\n",
       " [('Shells', 'Pizza slice', 1.41),\n",
       "  ('Pizza slice', 'Wasabi root', 0.6768),\n",
       "  ('Wasabi root', 'Shells', 1.055808),\n",
       "  ('Shells', 'Pizza slice', 1.48868928),\n",
       "  ('Pizza slice', 'Shells', 1.0569693888)])"
      ]
     },
     "execution_count": 13,
     "metadata": {},
     "output_type": "execute_result"
    }
   ],
   "source": [
    "# Extract rates into a dictionary for easier processing\n",
    "currencies = exchange_rates.columns[1:].tolist()  # Excluding the 'Unnamed: 0' which holds the row headers\n",
    "rates_dict = {row['Unnamed: 0']: row[1:].to_dict() for index, row in exchange_rates.iterrows()}\n",
    "\n",
    "# Let's perform some calculations to find the best trade path\n",
    "def find_best_trade(start_currency, trades_left, current_amount=1, path=[]):\n",
    "    if trades_left == 0:\n",
    "        # We must end with Shells\n",
    "        if start_currency != 'Shells':\n",
    "            return 0, []\n",
    "        else:\n",
    "            return current_amount, path\n",
    "    \n",
    "    best_amount = 0\n",
    "    best_path = []\n",
    "    \n",
    "    for target_currency in currencies:\n",
    "        if target_currency == start_currency:\n",
    "            continue  # Skip trading to the same currency\n",
    "        new_amount = current_amount * rates_dict[start_currency][target_currency]\n",
    "        new_path = path + [(start_currency, target_currency, new_amount)]\n",
    "        result_amount, result_path = find_best_trade(target_currency, trades_left - 1, new_amount, new_path)\n",
    "        if result_amount > best_amount:\n",
    "            best_amount = result_amount\n",
    "            best_path = result_path\n",
    "\n",
    "    return best_amount, best_path\n",
    "\n",
    "# Start trading from Shells with 5 trades available\n",
    "max_seashells, optimal_trade_path = find_best_trade('Shells', 5)\n",
    "\n",
    "max_seashells, optimal_trade_path\n"
   ]
  },
  {
   "cell_type": "code",
   "execution_count": 14,
   "metadata": {},
   "outputs": [
    {
     "data": {
      "text/plain": [
       "(2113938.7776, 1.0569693888)"
      ]
     },
     "execution_count": 14,
     "metadata": {},
     "output_type": "execute_result"
    }
   ],
   "source": [
    "# Initial amount of SeaShells\n",
    "initial_seashells = 2000000\n",
    "\n",
    "# Calculate the final amount of SeaShells after completing the optimal trades\n",
    "final_seashells = initial_seashells * max_seashells\n",
    "return_rate = final_seashells / initial_seashells\n",
    "final_seashells, return_rate"
   ]
  },
  {
   "cell_type": "code",
   "execution_count": null,
   "metadata": {},
   "outputs": [],
   "source": []
  }
 ],
 "metadata": {
  "kernelspec": {
   "display_name": "Python 3",
   "language": "python",
   "name": "python3"
  },
  "language_info": {
   "codemirror_mode": {
    "name": "ipython",
    "version": 3
   },
   "file_extension": ".py",
   "mimetype": "text/x-python",
   "name": "python",
   "nbconvert_exporter": "python",
   "pygments_lexer": "ipython3",
   "version": "3.12.2"
  }
 },
 "nbformat": 4,
 "nbformat_minor": 2
}
